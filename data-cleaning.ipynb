{
 "cells": [
  {
   "cell_type": "code",
   "execution_count": 1,
   "id": "2dba7904-17cd-4f4a-8afd-7f6663fe7b46",
   "metadata": {},
   "outputs": [],
   "source": [
    "import pandas as pd"
   ]
  },
  {
   "cell_type": "code",
   "execution_count": 3,
   "id": "7011a38f-a095-422b-b4c8-1efabc256b46",
   "metadata": {},
   "outputs": [],
   "source": [
    "file_path = 'diabetes.csv'\n",
    "diabetes_df = pd.read_csv(file_path)"
   ]
  },
  {
   "cell_type": "code",
   "execution_count": 5,
   "id": "290fa836-e050-4349-9665-a2ec700617b4",
   "metadata": {},
   "outputs": [],
   "source": [
    "columns_to_check = ['Glucose', 'BloodPressure', 'SkinThickness', 'Insulin', 'BMI']"
   ]
  },
  {
   "cell_type": "code",
   "execution_count": 7,
   "id": "d816eef5-bf20-4a6d-a8ed-c46fe8517b8e",
   "metadata": {},
   "outputs": [],
   "source": [
    "for column in columns_to_check:\n",
    "    diabetes_df[column] = diabetes_df[column].replace(0, diabetes_df[column].median())"
   ]
  },
  {
   "cell_type": "code",
   "execution_count": 9,
   "id": "d5b9b564-9e8a-42ae-99ce-4d68532dc589",
   "metadata": {},
   "outputs": [],
   "source": [
    "cleaned_file_path = 'diabetes_cleaned.csv'\n",
    "diabetes_df.to_csv(cleaned_file_path, index=False)"
   ]
  },
  {
   "cell_type": "code",
   "execution_count": null,
   "id": "3a0e1bf8-e0ec-42a3-b26f-fd21b7304880",
   "metadata": {},
   "outputs": [],
   "source": []
  }
 ],
 "metadata": {
  "kernelspec": {
   "display_name": "Python 3 (ipykernel)",
   "language": "python",
   "name": "python3"
  },
  "language_info": {
   "codemirror_mode": {
    "name": "ipython",
    "version": 3
   },
   "file_extension": ".py",
   "mimetype": "text/x-python",
   "name": "python",
   "nbconvert_exporter": "python",
   "pygments_lexer": "ipython3",
   "version": "3.12.7"
  }
 },
 "nbformat": 4,
 "nbformat_minor": 5
}
